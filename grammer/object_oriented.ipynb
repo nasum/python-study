{
 "cells": [
  {
   "cell_type": "markdown",
   "metadata": {},
   "source": [
    "# オブジェクト指向の練習"
   ]
  },
  {
   "cell_type": "code",
   "execution_count": 6,
   "metadata": {},
   "outputs": [
    {
     "name": "stdout",
     "output_type": "stream",
     "text": [
      "spam\n"
     ]
    }
   ],
   "source": [
    "class FirstClass:\n",
    "    def set_data(self, data):\n",
    "        self.data = data\n",
    "    def display_data(self):\n",
    "        print(self.data)\n",
    "\n",
    "first = FirstClass()\n",
    "first.set_data('spam')\n",
    "first.display_data()"
   ]
  },
  {
   "cell_type": "code",
   "execution_count": 11,
   "metadata": {},
   "outputs": [
    {
     "name": "stdout",
     "output_type": "stream",
     "text": [
      "Current Data = \"spam\"\n"
     ]
    }
   ],
   "source": [
    "class SecondClass(FirstClass):\n",
    "    def display_data(self):\n",
    "        print('Current Data = \"%s\"' % self.data)\n",
    "        \n",
    "second = SecondClass()\n",
    "second.set_data('spam')\n",
    "second.display_data()"
   ]
  },
  {
   "cell_type": "code",
   "execution_count": null,
   "metadata": {},
   "outputs": [],
   "source": [
    "class InitClass:\n",
    "    def __init__(self, name):\n",
    "        self.name = name\n",
    "        \n",
    "    def display(self):\n",
    "        print(self.name)\n",
    "        \n"
   ]
  }
 ],
 "metadata": {
  "kernelspec": {
   "display_name": "Python 3",
   "language": "python",
   "name": "python3"
  },
  "language_info": {
   "codemirror_mode": {
    "name": "ipython",
    "version": 3
   },
   "file_extension": ".py",
   "mimetype": "text/x-python",
   "name": "python",
   "nbconvert_exporter": "python",
   "pygments_lexer": "ipython3",
   "version": "3.6.5"
  }
 },
 "nbformat": 4,
 "nbformat_minor": 2
}
